{
 "cells": [
  {
   "cell_type": "markdown",
   "metadata": {},
   "source": [
    "# Porosity distribution\n"
   ]
  },
  {
   "cell_type": "code",
   "execution_count": 2,
   "metadata": {},
   "outputs": [],
   "source": [
    "import pandas as pd\n",
    "import numpy as np\n",
    "from matplotlib import pyplot as plt\n",
    "import seaborn as sns"
   ]
  },
  {
   "cell_type": "code",
   "execution_count": 3,
   "metadata": {},
   "outputs": [
    {
     "data": {
      "text/html": [
       "<div>\n",
       "<style scoped>\n",
       "    .dataframe tbody tr th:only-of-type {\n",
       "        vertical-align: middle;\n",
       "    }\n",
       "\n",
       "    .dataframe tbody tr th {\n",
       "        vertical-align: top;\n",
       "    }\n",
       "\n",
       "    .dataframe thead th {\n",
       "        text-align: right;\n",
       "    }\n",
       "</style>\n",
       "<table border=\"1\" class=\"dataframe\">\n",
       "  <thead>\n",
       "    <tr style=\"text-align: right;\">\n",
       "      <th></th>\n",
       "      <th>porosity</th>\n",
       "    </tr>\n",
       "  </thead>\n",
       "  <tbody>\n",
       "    <tr>\n",
       "      <th>0</th>\n",
       "      <td>17.0</td>\n",
       "    </tr>\n",
       "    <tr>\n",
       "      <th>1</th>\n",
       "      <td>14.7</td>\n",
       "    </tr>\n",
       "    <tr>\n",
       "      <th>2</th>\n",
       "      <td>8.3</td>\n",
       "    </tr>\n",
       "    <tr>\n",
       "      <th>3</th>\n",
       "      <td>17.6</td>\n",
       "    </tr>\n",
       "    <tr>\n",
       "      <th>4</th>\n",
       "      <td>26.3</td>\n",
       "    </tr>\n",
       "  </tbody>\n",
       "</table>\n",
       "</div>"
      ],
      "text/plain": [
       "   porosity\n",
       "0      17.0\n",
       "1      14.7\n",
       "2       8.3\n",
       "3      17.6\n",
       "4      26.3"
      ]
     },
     "execution_count": 3,
     "metadata": {},
     "output_type": "execute_result"
    }
   ],
   "source": [
    "df=pd.read_excel(r'Documents\\po.xlsx',usecols='B')\n",
    "df.head()"
   ]
  },
  {
   "cell_type": "code",
   "execution_count": 4,
   "metadata": {},
   "outputs": [
    {
     "data": {
      "text/plain": [
       "(8.3, 31.8)"
      ]
     },
     "execution_count": 4,
     "metadata": {},
     "output_type": "execute_result"
    }
   ],
   "source": [
    "df.porosity.min(),df.porosity.max() "
   ]
  },
  {
   "cell_type": "code",
   "execution_count": 5,
   "metadata": {},
   "outputs": [],
   "source": [
    "df[df<10]=8 \n",
    "x=list(df.porosity) "
   ]
  },
  {
   "cell_type": "code",
   "execution_count": 6,
   "metadata": {},
   "outputs": [
    {
     "data": {
      "text/plain": [
       "[8.0, 10.0, 12.0, 14.0, 16.0, 18.0, 20.0, 22.0, 24.0, 26.0, 28.0, 30.0, 32.0]"
      ]
     },
     "execution_count": 6,
     "metadata": {},
     "output_type": "execute_result"
    }
   ],
   "source": [
    "ranges=np.arange(df.porosity.min(),df.porosity.max()+1, 2).tolist() \n",
    "ranges"
   ]
  },
  {
   "cell_type": "code",
   "execution_count": 7,
   "metadata": {},
   "outputs": [
    {
     "data": {
      "text/html": [
       "<div>\n",
       "<style scoped>\n",
       "    .dataframe tbody tr th:only-of-type {\n",
       "        vertical-align: middle;\n",
       "    }\n",
       "\n",
       "    .dataframe tbody tr th {\n",
       "        vertical-align: top;\n",
       "    }\n",
       "\n",
       "    .dataframe thead th {\n",
       "        text-align: right;\n",
       "    }\n",
       "</style>\n",
       "<table border=\"1\" class=\"dataframe\">\n",
       "  <thead>\n",
       "    <tr style=\"text-align: right;\">\n",
       "      <th></th>\n",
       "      <th>counts</th>\n",
       "      <th>freqs</th>\n",
       "      <th>freqs(%)</th>\n",
       "    </tr>\n",
       "    <tr>\n",
       "      <th>categories</th>\n",
       "      <th></th>\n",
       "      <th></th>\n",
       "      <th></th>\n",
       "    </tr>\n",
       "  </thead>\n",
       "  <tbody>\n",
       "    <tr>\n",
       "      <th>[8.0, 10.0)</th>\n",
       "      <td>1</td>\n",
       "      <td>0.034483</td>\n",
       "      <td>3.448276</td>\n",
       "    </tr>\n",
       "    <tr>\n",
       "      <th>[10.0, 12.0)</th>\n",
       "      <td>0</td>\n",
       "      <td>0.000000</td>\n",
       "      <td>0.000000</td>\n",
       "    </tr>\n",
       "    <tr>\n",
       "      <th>[12.0, 14.0)</th>\n",
       "      <td>1</td>\n",
       "      <td>0.034483</td>\n",
       "      <td>3.448276</td>\n",
       "    </tr>\n",
       "    <tr>\n",
       "      <th>[14.0, 16.0)</th>\n",
       "      <td>3</td>\n",
       "      <td>0.103448</td>\n",
       "      <td>10.344828</td>\n",
       "    </tr>\n",
       "    <tr>\n",
       "      <th>[16.0, 18.0)</th>\n",
       "      <td>4</td>\n",
       "      <td>0.137931</td>\n",
       "      <td>13.793103</td>\n",
       "    </tr>\n",
       "    <tr>\n",
       "      <th>[18.0, 20.0)</th>\n",
       "      <td>8</td>\n",
       "      <td>0.275862</td>\n",
       "      <td>27.586207</td>\n",
       "    </tr>\n",
       "    <tr>\n",
       "      <th>[20.0, 22.0)</th>\n",
       "      <td>1</td>\n",
       "      <td>0.034483</td>\n",
       "      <td>3.448276</td>\n",
       "    </tr>\n",
       "    <tr>\n",
       "      <th>[22.0, 24.0)</th>\n",
       "      <td>1</td>\n",
       "      <td>0.034483</td>\n",
       "      <td>3.448276</td>\n",
       "    </tr>\n",
       "    <tr>\n",
       "      <th>[24.0, 26.0)</th>\n",
       "      <td>3</td>\n",
       "      <td>0.103448</td>\n",
       "      <td>10.344828</td>\n",
       "    </tr>\n",
       "    <tr>\n",
       "      <th>[26.0, 28.0)</th>\n",
       "      <td>3</td>\n",
       "      <td>0.103448</td>\n",
       "      <td>10.344828</td>\n",
       "    </tr>\n",
       "    <tr>\n",
       "      <th>[28.0, 30.0)</th>\n",
       "      <td>2</td>\n",
       "      <td>0.068966</td>\n",
       "      <td>6.896552</td>\n",
       "    </tr>\n",
       "    <tr>\n",
       "      <th>[30.0, 32.0)</th>\n",
       "      <td>2</td>\n",
       "      <td>0.068966</td>\n",
       "      <td>6.896552</td>\n",
       "    </tr>\n",
       "  </tbody>\n",
       "</table>\n",
       "</div>"
      ],
      "text/plain": [
       "              counts     freqs   freqs(%)\n",
       "categories                               \n",
       "[8.0, 10.0)        1  0.034483   3.448276\n",
       "[10.0, 12.0)       0  0.000000   0.000000\n",
       "[12.0, 14.0)       1  0.034483   3.448276\n",
       "[14.0, 16.0)       3  0.103448  10.344828\n",
       "[16.0, 18.0)       4  0.137931  13.793103\n",
       "[18.0, 20.0)       8  0.275862  27.586207\n",
       "[20.0, 22.0)       1  0.034483   3.448276\n",
       "[22.0, 24.0)       1  0.034483   3.448276\n",
       "[24.0, 26.0)       3  0.103448  10.344828\n",
       "[26.0, 28.0)       3  0.103448  10.344828\n",
       "[28.0, 30.0)       2  0.068966   6.896552\n",
       "[30.0, 32.0)       2  0.068966   6.896552"
      ]
     },
     "execution_count": 7,
     "metadata": {},
     "output_type": "execute_result"
    }
   ],
   "source": [
    "ncut = pd.cut(x,ranges,right=False,)\n",
    "\n",
    "df2 = pd.DataFrame(ncut.describe())\n",
    "df2['freqs(%)']=df2.freqs*100\n",
    "df2"
   ]
  },
  {
   "cell_type": "code",
   "execution_count": 8,
   "metadata": {},
   "outputs": [
    {
     "data": {
      "image/png": "[encoded data removed]",
      "text/plain": [
       "<Figure size 432x288 with 1 Axes>"
      ]
     },
     "metadata": {},
     "output_type": "display_data"
    }
   ],
   "source": [
    "sns.set_style('darkgrid')\n",
    "sns.distplot(df['porosity'],bins=ranges,kde=False,color='b')#freq\n",
    "plt.xlim(df.porosity.min(),df.porosity.max())\n",
    "\n",
    "plt.show()"
   ]
  },
  {
   "cell_type": "code",
   "execution_count": 9,
   "metadata": {},
   "outputs": [
    {
     "data": {
      "text/html": [
       "<div>\n",
       "<style scoped>\n",
       "    .dataframe tbody tr th:only-of-type {\n",
       "        vertical-align: middle;\n",
       "    }\n",
       "\n",
       "    .dataframe tbody tr th {\n",
       "        vertical-align: top;\n",
       "    }\n",
       "\n",
       "    .dataframe thead th {\n",
       "        text-align: right;\n",
       "    }\n",
       "</style>\n",
       "<table border=\"1\" class=\"dataframe\">\n",
       "  <thead>\n",
       "    <tr style=\"text-align: right;\">\n",
       "      <th></th>\n",
       "      <th>counts</th>\n",
       "      <th>freqs</th>\n",
       "      <th>freqs(%)</th>\n",
       "      <th>cum freq</th>\n",
       "      <th>m</th>\n",
       "    </tr>\n",
       "    <tr>\n",
       "      <th>categories</th>\n",
       "      <th></th>\n",
       "      <th></th>\n",
       "      <th></th>\n",
       "      <th></th>\n",
       "      <th></th>\n",
       "    </tr>\n",
       "  </thead>\n",
       "  <tbody>\n",
       "    <tr>\n",
       "      <th>[8.0, 10.0)</th>\n",
       "      <td>1</td>\n",
       "      <td>0.034483</td>\n",
       "      <td>3.448276</td>\n",
       "      <td>3.448276</td>\n",
       "      <td>9</td>\n",
       "    </tr>\n",
       "    <tr>\n",
       "      <th>[10.0, 12.0)</th>\n",
       "      <td>0</td>\n",
       "      <td>0.000000</td>\n",
       "      <td>0.000000</td>\n",
       "      <td>3.448276</td>\n",
       "      <td>11</td>\n",
       "    </tr>\n",
       "    <tr>\n",
       "      <th>[12.0, 14.0)</th>\n",
       "      <td>1</td>\n",
       "      <td>0.034483</td>\n",
       "      <td>3.448276</td>\n",
       "      <td>6.896552</td>\n",
       "      <td>13</td>\n",
       "    </tr>\n",
       "    <tr>\n",
       "      <th>[14.0, 16.0)</th>\n",
       "      <td>3</td>\n",
       "      <td>0.103448</td>\n",
       "      <td>10.344828</td>\n",
       "      <td>17.241379</td>\n",
       "      <td>15</td>\n",
       "    </tr>\n",
       "    <tr>\n",
       "      <th>[16.0, 18.0)</th>\n",
       "      <td>4</td>\n",
       "      <td>0.137931</td>\n",
       "      <td>13.793103</td>\n",
       "      <td>31.034483</td>\n",
       "      <td>17</td>\n",
       "    </tr>\n",
       "    <tr>\n",
       "      <th>[18.0, 20.0)</th>\n",
       "      <td>8</td>\n",
       "      <td>0.275862</td>\n",
       "      <td>27.586207</td>\n",
       "      <td>58.620690</td>\n",
       "      <td>19</td>\n",
       "    </tr>\n",
       "    <tr>\n",
       "      <th>[20.0, 22.0)</th>\n",
       "      <td>1</td>\n",
       "      <td>0.034483</td>\n",
       "      <td>3.448276</td>\n",
       "      <td>62.068966</td>\n",
       "      <td>21</td>\n",
       "    </tr>\n",
       "    <tr>\n",
       "      <th>[22.0, 24.0)</th>\n",
       "      <td>1</td>\n",
       "      <td>0.034483</td>\n",
       "      <td>3.448276</td>\n",
       "      <td>65.517241</td>\n",
       "      <td>23</td>\n",
       "    </tr>\n",
       "    <tr>\n",
       "      <th>[24.0, 26.0)</th>\n",
       "      <td>3</td>\n",
       "      <td>0.103448</td>\n",
       "      <td>10.344828</td>\n",
       "      <td>75.862069</td>\n",
       "      <td>25</td>\n",
       "    </tr>\n",
       "    <tr>\n",
       "      <th>[26.0, 28.0)</th>\n",
       "      <td>3</td>\n",
       "      <td>0.103448</td>\n",
       "      <td>10.344828</td>\n",
       "      <td>86.206897</td>\n",
       "      <td>27</td>\n",
       "    </tr>\n",
       "    <tr>\n",
       "      <th>[28.0, 30.0)</th>\n",
       "      <td>2</td>\n",
       "      <td>0.068966</td>\n",
       "      <td>6.896552</td>\n",
       "      <td>93.103448</td>\n",
       "      <td>29</td>\n",
       "    </tr>\n",
       "    <tr>\n",
       "      <th>[30.0, 32.0)</th>\n",
       "      <td>2</td>\n",
       "      <td>0.068966</td>\n",
       "      <td>6.896552</td>\n",
       "      <td>100.000000</td>\n",
       "      <td>31</td>\n",
       "    </tr>\n",
       "  </tbody>\n",
       "</table>\n",
       "</div>"
      ],
      "text/plain": [
       "              counts     freqs   freqs(%)    cum freq   m\n",
       "categories                                               \n",
       "[8.0, 10.0)        1  0.034483   3.448276    3.448276   9\n",
       "[10.0, 12.0)       0  0.000000   0.000000    3.448276  11\n",
       "[12.0, 14.0)       1  0.034483   3.448276    6.896552  13\n",
       "[14.0, 16.0)       3  0.103448  10.344828   17.241379  15\n",
       "[16.0, 18.0)       4  0.137931  13.793103   31.034483  17\n",
       "[18.0, 20.0)       8  0.275862  27.586207   58.620690  19\n",
       "[20.0, 22.0)       1  0.034483   3.448276   62.068966  21\n",
       "[22.0, 24.0)       1  0.034483   3.448276   65.517241  23\n",
       "[24.0, 26.0)       3  0.103448  10.344828   75.862069  25\n",
       "[26.0, 28.0)       3  0.103448  10.344828   86.206897  27\n",
       "[28.0, 30.0)       2  0.068966   6.896552   93.103448  29\n",
       "[30.0, 32.0)       2  0.068966   6.896552  100.000000  31"
      ]
     },
     "execution_count": 9,
     "metadata": {},
     "output_type": "execute_result"
    }
   ],
   "source": [
    "df2['cum freq'] = df2['freqs(%)'].cumsum()   #cum freq\n",
    "a=np.arange(9,33,2)     #mid points\n",
    "df2['m']= a    \n",
    "df2"
   ]
  },
  {
   "cell_type": "code",
   "execution_count": 10,
   "metadata": {},
   "outputs": [
    {
     "data": {
      "image/png": "[encoded data removed]",
      "text/plain": [
       "<Figure size 432x288 with 2 Axes>"
      ]
     },
     "metadata": {},
     "output_type": "display_data"
    }
   ],
   "source": [
    "sns.set_style('darkgrid') \n",
    "ax=sns.distplot(df['porosity'],bins=ranges,kde=False,norm_hist=False,color='r')\n",
    "plt.ylabel('frequency')\n",
    "plt.xlabel('porosity ranges (%) ')\n",
    "ax2=ax.twinx()\n",
    "sns.scatterplot(df2['m'],df2['cum freq'],color='darkslategrey')\n",
    "  \n",
    "sns.lineplot(data=df2,x=df2['m'], y=df2['cum freq'],markers=True, dashes=False,color='darkcyan')\n",
    "    \n",
    "\n",
    "plt.title('Porosity distribution')\n",
    "plt.ylabel('cumulative frequency%')\n",
    "\n",
    "plt.xlim(df.porosity.min(),df.porosity.max())\n",
    "plt.ylim(0,)\n",
    "plt.grid(None)  \n",
    "plt.show()"
   ]
  },
  {
   "cell_type": "code",
   "execution_count": 11,
   "metadata": {},
   "outputs": [
    {
     "name": "stdout",
     "output_type": "stream",
     "text": [
      "MEAN POROSITY  :  20.87 %\n",
      "MEDIAN POROSITY:  19.3 %\n"
     ]
    }
   ],
   "source": [
    "print('MEAN POROSITY  : ',float(\"{:.2f}\".format(df.porosity.mean())),'%')\n",
    "print('MEDIAN POROSITY: ',float( \"{:.2f}\".format(df.porosity.median())),'%')"
   ]
  }
 ],
 "metadata": {
  "kernelspec": {
   "display_name": "Python 3",
   "language": "python",
   "name": "python3"
  },
  "language_info": {
   "codemirror_mode": {
    "name": "ipython",
    "version": 3
   },
   "file_extension": ".py",
   "mimetype": "text/x-python",
   "name": "python",
   "nbconvert_exporter": "python",
   "pygments_lexer": "ipython3",
   "version": "3.8.3"
  }
 },
 "nbformat": 4,
 "nbformat_minor": 4
}
