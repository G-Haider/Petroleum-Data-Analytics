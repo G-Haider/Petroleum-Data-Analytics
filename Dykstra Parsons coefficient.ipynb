{
 "cells": [
  {
   "cell_type": "markdown",
   "metadata": {},
   "source": [
    "# Dykstra Parsons coefficient"
   ]
  },
  {
   "cell_type": "markdown",
   "metadata": {},
   "source": [
    "The Dykstra–Parsons coefficient (Vk), or coefficient of variation was introduced in 1950 to evaluate the vertical heterogeneity. The coefficient is calculated using the formula of obtained the 50th and 84.1th values from the Permeability/Probability plot.\n",
    "\n",
    "The range of this index is 0<Vk<1:\n",
    "\n",
    "Vk=0, ideal homogeneous reservoir.\n",
    "\n",
    "0<Vk<0.25, less heterogeneous.\n",
    "\n",
    "0.25<Vk<0.50, heterogeneous reservoir, geometric averaging technique is applicable\n",
    "\n",
    "0.50<Vk<0.75, the reservoir is very heterogeneous, a combination of geometric and harmonic averaging technique is necessary.\n",
    "\n",
    "0.75<Vk<1, the reservoir is extremely heterogeneous; none of the conventional averaging techniques (arithmetic, geometric, and harmonic) are applicable in this range.\n",
    "\n",
    "Vk =1, perfectly heterogeneous reservoir. It is unlikely that such reservoirs exist, as geologic processes of deposition and accumulation of sediments are not extreme\n",
    "\n",
    "Note: In most reservoirs, the coefficient is between 0.5 to 0.8"
   ]
  },
  {
   "cell_type": "code",
   "execution_count": 1,
   "metadata": {},
   "outputs": [],
   "source": [
    "import pandas as pd \n",
    "import numpy as np\n",
    "import matplotlib.pyplot as plt\n",
    "import seaborn as sns\n",
    "from sklearn import linear_model"
   ]
  },
  {
   "cell_type": "code",
   "execution_count": 2,
   "metadata": {},
   "outputs": [
    {
     "data": {
      "text/plain": [
       "array([[964,   2],\n",
       "       [953,   1],\n",
       "       [940,   1],\n",
       "       [933,   1],\n",
       "       [924,   1],\n",
       "       [921,   1],\n",
       "       [900,   1],\n",
       "       [896,   1],\n",
       "       [888,   1],\n",
       "       [872,   1],\n",
       "       [869,   2],\n",
       "       [855,   1],\n",
       "       [851,   1],\n",
       "       [845,   1],\n",
       "       [813,   1],\n",
       "       [784,   1],\n",
       "       [772,   1],\n",
       "       [771,   1],\n",
       "       [759,   1],\n",
       "       [748,   1],\n",
       "       [746,   1],\n",
       "       [743,   1],\n",
       "       [731,   1],\n",
       "       [723,   1],\n",
       "       [709,   2],\n",
       "       [705,   1],\n",
       "       [674,   1],\n",
       "       [671,   1],\n",
       "       [660,   1],\n",
       "       [652,   1],\n",
       "       [649,   1],\n",
       "       [641,   1],\n",
       "       [640,   1],\n",
       "       [623,   1],\n",
       "       [621,   1],\n",
       "       [619,   1],\n",
       "       [609,   1],\n",
       "       [589,   1],\n",
       "       [577,   1],\n",
       "       [576,   1],\n",
       "       [569,   1],\n",
       "       [555,   1],\n",
       "       [540,   1],\n",
       "       [532,   1],\n",
       "       [526,   1],\n",
       "       [504,   1],\n",
       "       [501,   1],\n",
       "       [496,   1],\n",
       "       [481,   1],\n",
       "       [462,   1],\n",
       "       [429,   1],\n",
       "       [398,   1],\n",
       "       [379,   2],\n",
       "       [376,   1],\n",
       "       [373,   1],\n",
       "       [371,   1],\n",
       "       [368,   1],\n",
       "       [362,   1],\n",
       "       [342,   1],\n",
       "       [327,   1],\n",
       "       [324,   1],\n",
       "       [321,   1],\n",
       "       [320,   1],\n",
       "       [305,   1],\n",
       "       [263,   1],\n",
       "       [256,   1],\n",
       "       [247,   2],\n",
       "       [242,   1],\n",
       "       [223,   1],\n",
       "       [215,   1],\n",
       "       [213,   1],\n",
       "       [209,   1],\n",
       "       [206,   1],\n",
       "       [181,   1],\n",
       "       [169,   1],\n",
       "       [162,   1],\n",
       "       [158,   1],\n",
       "       [152,   1],\n",
       "       [148,   1],\n",
       "       [138,   1],\n",
       "       [136,   1],\n",
       "       [135,   1],\n",
       "       [127,   1],\n",
       "       [103,   1],\n",
       "       [ 96,   1],\n",
       "       [ 90,   1],\n",
       "       [ 87,   1],\n",
       "       [ 82,   1],\n",
       "       [ 68,   1],\n",
       "       [ 58,   2],\n",
       "       [ 53,   1],\n",
       "       [ 48,   1],\n",
       "       [ 43,   1],\n",
       "       [ 35,   1],\n",
       "       [ 22,   1],\n",
       "       [ 21,   1],\n",
       "       [ 10,   1],\n",
       "       [  6,   1],\n",
       "       [  5,   1]], dtype=int64)"
      ]
     },
     "execution_count": 2,
     "metadata": {},
     "output_type": "execute_result"
    }
   ],
   "source": [
    "from numpy import random\n",
    "random_core_samples=random.randint(1000,size=(105))        \n",
    "sample=np.sort(random_core_samples)   \n",
    "(unique,counts)=np.unique(sample,return_counts=True)     #adding freq\n",
    "data=np.asarray((unique,counts)).T[::-1]                 #[::-1] desending order\n",
    "data"
   ]
  },
  {
   "cell_type": "code",
   "execution_count": 3,
   "metadata": {},
   "outputs": [
    {
     "data": {
      "text/html": [
       "<div>\n",
       "<style scoped>\n",
       "    .dataframe tbody tr th:only-of-type {\n",
       "        vertical-align: middle;\n",
       "    }\n",
       "\n",
       "    .dataframe tbody tr th {\n",
       "        vertical-align: top;\n",
       "    }\n",
       "\n",
       "    .dataframe thead th {\n",
       "        text-align: right;\n",
       "    }\n",
       "</style>\n",
       "<table border=\"1\" class=\"dataframe\">\n",
       "  <thead>\n",
       "    <tr style=\"text-align: right;\">\n",
       "      <th></th>\n",
       "      <th>K_md</th>\n",
       "      <th>freq</th>\n",
       "      <th>cm_freq</th>\n",
       "      <th>portion_of_sample_with_higher_K</th>\n",
       "    </tr>\n",
       "  </thead>\n",
       "  <tbody>\n",
       "    <tr>\n",
       "      <th>0</th>\n",
       "      <td>964</td>\n",
       "      <td>2</td>\n",
       "      <td>2</td>\n",
       "      <td>0.000000</td>\n",
       "    </tr>\n",
       "    <tr>\n",
       "      <th>1</th>\n",
       "      <td>953</td>\n",
       "      <td>1</td>\n",
       "      <td>3</td>\n",
       "      <td>1.904762</td>\n",
       "    </tr>\n",
       "    <tr>\n",
       "      <th>2</th>\n",
       "      <td>940</td>\n",
       "      <td>1</td>\n",
       "      <td>4</td>\n",
       "      <td>2.857143</td>\n",
       "    </tr>\n",
       "    <tr>\n",
       "      <th>3</th>\n",
       "      <td>933</td>\n",
       "      <td>1</td>\n",
       "      <td>5</td>\n",
       "      <td>3.809524</td>\n",
       "    </tr>\n",
       "    <tr>\n",
       "      <th>4</th>\n",
       "      <td>924</td>\n",
       "      <td>1</td>\n",
       "      <td>6</td>\n",
       "      <td>4.761905</td>\n",
       "    </tr>\n",
       "    <tr>\n",
       "      <th>...</th>\n",
       "      <td>...</td>\n",
       "      <td>...</td>\n",
       "      <td>...</td>\n",
       "      <td>...</td>\n",
       "    </tr>\n",
       "    <tr>\n",
       "      <th>94</th>\n",
       "      <td>22</td>\n",
       "      <td>1</td>\n",
       "      <td>101</td>\n",
       "      <td>95.238095</td>\n",
       "    </tr>\n",
       "    <tr>\n",
       "      <th>95</th>\n",
       "      <td>21</td>\n",
       "      <td>1</td>\n",
       "      <td>102</td>\n",
       "      <td>96.190476</td>\n",
       "    </tr>\n",
       "    <tr>\n",
       "      <th>96</th>\n",
       "      <td>10</td>\n",
       "      <td>1</td>\n",
       "      <td>103</td>\n",
       "      <td>97.142857</td>\n",
       "    </tr>\n",
       "    <tr>\n",
       "      <th>97</th>\n",
       "      <td>6</td>\n",
       "      <td>1</td>\n",
       "      <td>104</td>\n",
       "      <td>98.095238</td>\n",
       "    </tr>\n",
       "    <tr>\n",
       "      <th>98</th>\n",
       "      <td>5</td>\n",
       "      <td>1</td>\n",
       "      <td>105</td>\n",
       "      <td>99.047619</td>\n",
       "    </tr>\n",
       "  </tbody>\n",
       "</table>\n",
       "<p>99 rows × 4 columns</p>\n",
       "</div>"
      ],
      "text/plain": [
       "    K_md  freq  cm_freq  portion_of_sample_with_higher_K\n",
       "0    964     2        2                         0.000000\n",
       "1    953     1        3                         1.904762\n",
       "2    940     1        4                         2.857143\n",
       "3    933     1        5                         3.809524\n",
       "4    924     1        6                         4.761905\n",
       "..   ...   ...      ...                              ...\n",
       "94    22     1      101                        95.238095\n",
       "95    21     1      102                        96.190476\n",
       "96    10     1      103                        97.142857\n",
       "97     6     1      104                        98.095238\n",
       "98     5     1      105                        99.047619\n",
       "\n",
       "[99 rows x 4 columns]"
      ]
     },
     "execution_count": 3,
     "metadata": {},
     "output_type": "execute_result"
    }
   ],
   "source": [
    "df=pd.DataFrame(data,columns=['K_md','freq'])\n",
    "df['cm_freq']=df.freq.cumsum()\n",
    "df['portion_of_sample_with_higher_K']=(df.cm_freq-df.freq)/df.freq.sum()*100\n",
    "df"
   ]
  },
  {
   "cell_type": "code",
   "execution_count": 4,
   "metadata": {},
   "outputs": [],
   "source": [
    "df['K/P']=(df['K_md']/df['portion_of_sample_with_higher_K'])"
   ]
  },
  {
   "cell_type": "code",
   "execution_count": 5,
   "metadata": {},
   "outputs": [],
   "source": [
    "portion_of_sample_with_higher_K= df.drop(['K_md','cm_freq','freq','K/P'],axis='columns')\n",
    "K_md = df.K_md"
   ]
  },
  {
   "cell_type": "code",
   "execution_count": 6,
   "metadata": {},
   "outputs": [
    {
     "data": {
      "text/plain": [
       "(-10.215925078529606, 965.2292309590853)"
      ]
     },
     "execution_count": 6,
     "metadata": {},
     "output_type": "execute_result"
    }
   ],
   "source": [
    "model = linear_model.LinearRegression()\n",
    "model.fit(portion_of_sample_with_higher_K,K_md)\n",
    "m=float(model.coef_)                                                 \n",
    "b=float(model.intercept_)                                 #y= mx+b\n",
    "m,b"
   ]
  },
  {
   "cell_type": "code",
   "execution_count": 7,
   "metadata": {},
   "outputs": [],
   "source": [
    "pd.options.mode.use_inf_as_na=True\n",
    "df['K/P'].fillna(df['K/P'].max(),inplace=True)"
   ]
  },
  {
   "cell_type": "code",
   "execution_count": 9,
   "metadata": {},
   "outputs": [
    {
     "name": "stdout",
     "output_type": "stream",
     "text": [
      "Dykstra Parsons coefficient is equal to:  0.77 \n",
      "Reservoir is extreamly heterogeneous\n"
     ]
    },
    {
     "data": {
      "image/png": "[encoded data removed]",
      "text/plain": [
       "<Figure size 432x288 with 1 Axes>"
      ]
     },
     "metadata": {},
     "output_type": "display_data"
    },
    {
     "data": {
      "image/png": "[encoded data removed]",
      "text/plain": [
       "<Figure size 432x288 with 1 Axes>"
      ]
     },
     "metadata": {},
     "output_type": "display_data"
    }
   ],
   "source": [
    "Vk=float((model.predict([[50]])-(model.predict([[84.1]])))/(model.predict([[50]])))\n",
    "if 0.75<=Vk and Vk<1:\n",
    "       print(\"Dykstra Parsons coefficient is equal to: \",\"{:.2f}\".format(Vk),'\\nReservoir is extreamly heterogeneous')\n",
    "elif Vk>=0.5 and Vk<=0.75:\n",
    "       print(\"Dykstra Parsons coefficient is equal to: \",\"{:.2f}\".format(Vk),'\\nReservoir is very heterogeneous')\n",
    "elif Vk>=0.25 and Vk<=0.5:\n",
    "       print(\"Dykstra Parsons coefficient is equal to: \",\"{:.2f}\".format(Vk),'\\nReservoir is heterogeneous')\n",
    "elif Vk>0 and Vk<=0.25:\n",
    "       print(\"Dykstra Parsons coefficient is equal to: \",\"{:.2f}\".format(Vk),'\\nReservoir is very less heterogeneous')\n",
    "else:\n",
    "        print('Kindly check agian that 0<Vk>1')\n",
    "\n",
    "        \n",
    "\n",
    "cmap=sns.cubehelix_palette(dark=.5,light=.2,as_cmap=True)\n",
    "\n",
    "\n",
    "plt.xlim(0,100)\n",
    "plt.ylim(0,1000) \n",
    "h=df.eval(df[\"K/P\"])             \n",
    "sns.set_style('darkgrid')    \n",
    "plt.plot([50.1,50,0],[0,float(model.predict([[50]])),float(model.predict([[50]]))],color='maroon')\n",
    "plt.plot([84.1,84.1,0],[0,float(model.predict([[84.1]])),float(model.predict([[84.1]]))],color='darkolivegreen')\n",
    "plt.title('Pemeability vs Portion of sample having higher Pemeability')\n",
    "sns.scatterplot(data=df,x=df.portion_of_sample_with_higher_K,y=df.K_md,hue=h,size=h,hue_norm=(0,7))\n",
    "plt.plot(df.portion_of_sample_with_higher_K,(df.portion_of_sample_with_higher_K*m)+b,color='m')    \n",
    "plt.stackplot([84.1,84.1,0],[0,float(model.predict([[84.1]])),float(model.predict([[84.1]]))],alpha=.6,color='y')\n",
    "plt.stackplot([50,50,0],[0,float(model.predict([[50]])),float(model.predict([[50]]))],alpha=.5)\n",
    "plt.show()\n",
    "\n",
    "\n",
    "plt.xlim(0,100)        \n",
    "plt.semilogy()\n",
    "h=df.eval(df[\"K/P\"])             \n",
    "sns.set_style('darkgrid') \n",
    "plt.plot([50,50,0],[0,float(model.predict([[50]])),float(model.predict([[50]]))],color='seagreen')\n",
    "plt.plot([84.1,84.1,0],[0,float(model.predict([[84.1]])),float(model.predict([[84.1]]))],color='darkslategrey')\n",
    "plt.title('Pemeability vs Portion of sample having higher Pemeability')\n",
    "sns.scatterplot(data=df,x=df.portion_of_sample_with_higher_K,y=df.K_md,color='m')\n",
    "plt.plot(df.portion_of_sample_with_higher_K,(df.portion_of_sample_with_higher_K*m)+b)    \n",
    "plt.stackplot([84.1,84.1,0],[0,float(model.predict([[84.1]])),float(model.predict([[84.1]]))],alpha=.7,color='g')\n",
    "plt.stackplot([50,50,0],[0,float(model.predict([[50]])),float(model.predict([[50]]))],alpha=.6,color='palegreen')\n",
    "plt.show()"
   ]
  }
 ],
 "metadata": {
  "kernelspec": {
   "display_name": "Python 3",
   "language": "python",
   "name": "python3"
  },
  "language_info": {
   "codemirror_mode": {
    "name": "ipython",
    "version": 3
   },
   "file_extension": ".py",
   "mimetype": "text/x-python",
   "name": "python",
   "nbconvert_exporter": "python",
   "pygments_lexer": "ipython3",
   "version": "3.8.3"
  }
 },
 "nbformat": 4,
 "nbformat_minor": 4
}
