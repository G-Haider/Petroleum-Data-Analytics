{
 "cells": [
  {
   "cell_type": "markdown",
   "metadata": {},
   "source": [
    "# Dykstra Parsons coefficient"
   ]
  },
  {
   "cell_type": "markdown",
   "metadata": {},
   "source": [
    "The Dykstra–Parsons coefficient (Vk), or coefficient of variation was introduced in 1950 to evaluate the vertical heterogeneity. The coefficient is calculated using the formula of obtained the 50th and 84.1th values from the Permeability/Probability plot.\n",
    "\n",
    "The range of this index is 0<Vk<1:\n",
    "\n",
    "Vk=0, ideal homogeneous reservoir.\n",
    "\n",
    "0<Vk<0.25, less heterogeneous.\n",
    "\n",
    "0.25<Vk<0.50, heterogeneous reservoir, geometric averaging technique is applicable\n",
    "\n",
    "0.50<Vk<0.75, the reservoir is very heterogeneous, a combination of geometric and harmonic averaging technique is necessary.\n",
    "\n",
    "0.75<Vk<1, the reservoir is extremely heterogeneous; none of the conventional averaging techniques (arithmetic, geometric, and harmonic) are applicable in this range.\n",
    "\n",
    "Vk =1, perfectly heterogeneous reservoir. It is unlikely that such reservoirs exist, as geologic processes of deposition and accumulation of sediments are not extreme\n",
    "\n",
    "Note: In most reservoirs, the coefficient is between 0.5 to 0.8, the method can be extended for other properties of rock."
   ]
  },
  {
   "cell_type": "code",
   "execution_count": 13,
   "metadata": {},
   "outputs": [],
   "source": [
    "import pandas as pd \n",
    "import numpy as np\n",
    "import matplotlib.pyplot as plt\n",
    "import seaborn as sns\n",
    "from sklearn import linear_model"
   ]
  },
  {
   "cell_type": "code",
   "execution_count": 14,
   "metadata": {},
   "outputs": [
    {
     "data": {
      "text/plain": [
       "array([[983,   2],\n",
       "       [976,   1],\n",
       "       [973,   1],\n",
       "       [971,   1],\n",
       "       [966,   1],\n",
       "       [956,   1],\n",
       "       [949,   1],\n",
       "       [948,   1],\n",
       "       [947,   1],\n",
       "       [936,   1],\n",
       "       [931,   1],\n",
       "       [929,   2],\n",
       "       [926,   1],\n",
       "       [924,   1],\n",
       "       [919,   1],\n",
       "       [906,   1],\n",
       "       [897,   1],\n",
       "       [883,   1],\n",
       "       [861,   2],\n",
       "       [851,   1],\n",
       "       [842,   1],\n",
       "       [839,   1],\n",
       "       [837,   1],\n",
       "       [836,   1],\n",
       "       [834,   1],\n",
       "       [804,   1],\n",
       "       [803,   1],\n",
       "       [800,   1],\n",
       "       [792,   1],\n",
       "       [784,   1],\n",
       "       [754,   1],\n",
       "       [748,   1],\n",
       "       [745,   1],\n",
       "       [716,   1],\n",
       "       [713,   1],\n",
       "       [699,   1],\n",
       "       [698,   1],\n",
       "       [678,   1],\n",
       "       [634,   1],\n",
       "       [624,   2],\n",
       "       [613,   1],\n",
       "       [604,   1],\n",
       "       [596,   1],\n",
       "       [595,   1],\n",
       "       [594,   1],\n",
       "       [593,   1],\n",
       "       [577,   1],\n",
       "       [563,   1],\n",
       "       [555,   1],\n",
       "       [544,   1],\n",
       "       [539,   1],\n",
       "       [529,   1],\n",
       "       [520,   1],\n",
       "       [507,   1],\n",
       "       [500,   1],\n",
       "       [493,   1],\n",
       "       [466,   1],\n",
       "       [436,   1],\n",
       "       [426,   1],\n",
       "       [381,   1],\n",
       "       [378,   2],\n",
       "       [373,   1],\n",
       "       [367,   1],\n",
       "       [339,   2],\n",
       "       [337,   1],\n",
       "       [320,   1],\n",
       "       [318,   1],\n",
       "       [317,   1],\n",
       "       [313,   1],\n",
       "       [311,   1],\n",
       "       [306,   1],\n",
       "       [275,   1],\n",
       "       [259,   1],\n",
       "       [241,   1],\n",
       "       [235,   1],\n",
       "       [205,   1],\n",
       "       [204,   1],\n",
       "       [201,   1],\n",
       "       [199,   1],\n",
       "       [188,   1],\n",
       "       [187,   2],\n",
       "       [122,   1],\n",
       "       [116,   1],\n",
       "       [113,   1],\n",
       "       [ 90,   1],\n",
       "       [ 89,   1],\n",
       "       [ 83,   1],\n",
       "       [ 81,   1],\n",
       "       [ 73,   1],\n",
       "       [ 71,   1],\n",
       "       [ 56,   1],\n",
       "       [ 51,   1],\n",
       "       [ 49,   1],\n",
       "       [ 42,   1],\n",
       "       [ 34,   1],\n",
       "       [ 18,   1],\n",
       "       [ 12,   1],\n",
       "       [  0,   1]], dtype=int64)"
      ]
     },
     "execution_count": 14,
     "metadata": {},
     "output_type": "execute_result"
    }
   ],
   "source": [
    "from numpy import random\n",
    "random_core_samples=random.randint(1000,size=(105))        \n",
    "sample=np.sort(random_core_samples)   \n",
    "(unique,counts)=np.unique(sample,return_counts=True)     #adding freq\n",
    "data=np.asarray((unique,counts)).T[::-1]                 #[::-1] desending order\n",
    "data"
   ]
  },
  {
   "cell_type": "code",
   "execution_count": 15,
   "metadata": {},
   "outputs": [
    {
     "data": {
      "text/html": [
       "<div>\n",
       "<style scoped>\n",
       "    .dataframe tbody tr th:only-of-type {\n",
       "        vertical-align: middle;\n",
       "    }\n",
       "\n",
       "    .dataframe tbody tr th {\n",
       "        vertical-align: top;\n",
       "    }\n",
       "\n",
       "    .dataframe thead th {\n",
       "        text-align: right;\n",
       "    }\n",
       "</style>\n",
       "<table border=\"1\" class=\"dataframe\">\n",
       "  <thead>\n",
       "    <tr style=\"text-align: right;\">\n",
       "      <th></th>\n",
       "      <th>K_md</th>\n",
       "      <th>freq</th>\n",
       "      <th>cm_freq</th>\n",
       "      <th>portion_of_sample_with_higher_K</th>\n",
       "    </tr>\n",
       "  </thead>\n",
       "  <tbody>\n",
       "    <tr>\n",
       "      <th>0</th>\n",
       "      <td>983</td>\n",
       "      <td>2</td>\n",
       "      <td>2</td>\n",
       "      <td>0.000000</td>\n",
       "    </tr>\n",
       "    <tr>\n",
       "      <th>1</th>\n",
       "      <td>976</td>\n",
       "      <td>1</td>\n",
       "      <td>3</td>\n",
       "      <td>1.904762</td>\n",
       "    </tr>\n",
       "    <tr>\n",
       "      <th>2</th>\n",
       "      <td>973</td>\n",
       "      <td>1</td>\n",
       "      <td>4</td>\n",
       "      <td>2.857143</td>\n",
       "    </tr>\n",
       "    <tr>\n",
       "      <th>3</th>\n",
       "      <td>971</td>\n",
       "      <td>1</td>\n",
       "      <td>5</td>\n",
       "      <td>3.809524</td>\n",
       "    </tr>\n",
       "    <tr>\n",
       "      <th>4</th>\n",
       "      <td>966</td>\n",
       "      <td>1</td>\n",
       "      <td>6</td>\n",
       "      <td>4.761905</td>\n",
       "    </tr>\n",
       "    <tr>\n",
       "      <th>...</th>\n",
       "      <td>...</td>\n",
       "      <td>...</td>\n",
       "      <td>...</td>\n",
       "      <td>...</td>\n",
       "    </tr>\n",
       "    <tr>\n",
       "      <th>93</th>\n",
       "      <td>42</td>\n",
       "      <td>1</td>\n",
       "      <td>101</td>\n",
       "      <td>95.238095</td>\n",
       "    </tr>\n",
       "    <tr>\n",
       "      <th>94</th>\n",
       "      <td>34</td>\n",
       "      <td>1</td>\n",
       "      <td>102</td>\n",
       "      <td>96.190476</td>\n",
       "    </tr>\n",
       "    <tr>\n",
       "      <th>95</th>\n",
       "      <td>18</td>\n",
       "      <td>1</td>\n",
       "      <td>103</td>\n",
       "      <td>97.142857</td>\n",
       "    </tr>\n",
       "    <tr>\n",
       "      <th>96</th>\n",
       "      <td>12</td>\n",
       "      <td>1</td>\n",
       "      <td>104</td>\n",
       "      <td>98.095238</td>\n",
       "    </tr>\n",
       "    <tr>\n",
       "      <th>97</th>\n",
       "      <td>0</td>\n",
       "      <td>1</td>\n",
       "      <td>105</td>\n",
       "      <td>99.047619</td>\n",
       "    </tr>\n",
       "  </tbody>\n",
       "</table>\n",
       "<p>98 rows × 4 columns</p>\n",
       "</div>"
      ],
      "text/plain": [
       "    K_md  freq  cm_freq  portion_of_sample_with_higher_K\n",
       "0    983     2        2                         0.000000\n",
       "1    976     1        3                         1.904762\n",
       "2    973     1        4                         2.857143\n",
       "3    971     1        5                         3.809524\n",
       "4    966     1        6                         4.761905\n",
       "..   ...   ...      ...                              ...\n",
       "93    42     1      101                        95.238095\n",
       "94    34     1      102                        96.190476\n",
       "95    18     1      103                        97.142857\n",
       "96    12     1      104                        98.095238\n",
       "97     0     1      105                        99.047619\n",
       "\n",
       "[98 rows x 4 columns]"
      ]
     },
     "execution_count": 15,
     "metadata": {},
     "output_type": "execute_result"
    }
   ],
   "source": [
    "df=pd.DataFrame(data,columns=['K_md','freq'])\n",
    "df['cm_freq']=df.freq.cumsum()\n",
    "df['portion_of_sample_with_higher_K']=(df.cm_freq-df.freq)/df.freq.sum()*100\n",
    "df"
   ]
  },
  {
   "cell_type": "code",
   "execution_count": 18,
   "metadata": {},
   "outputs": [],
   "source": [
    "df['K/P']=(df['K_md']/df['portion_of_sample_with_higher_K'])"
   ]
  },
  {
   "cell_type": "code",
   "execution_count": 19,
   "metadata": {},
   "outputs": [],
   "source": [
    "portion_of_sample_with_higher_K= df.drop(['K_md','cm_freq','freq','K/P'],axis='columns')\n",
    "K_md = df.K_md"
   ]
  },
  {
   "cell_type": "code",
   "execution_count": 20,
   "metadata": {},
   "outputs": [
    {
     "data": {
      "text/plain": [
       "(-10.813975496730462, 1067.0333094132743)"
      ]
     },
     "execution_count": 20,
     "metadata": {},
     "output_type": "execute_result"
    }
   ],
   "source": [
    "model = linear_model.LinearRegression()\n",
    "model.fit(portion_of_sample_with_higher_K,K_md)\n",
    "m=float(model.coef_)                                                 \n",
    "b=float(model.intercept_)                                 #y= mx+b\n",
    "m,b"
   ]
  },
  {
   "cell_type": "code",
   "execution_count": 21,
   "metadata": {},
   "outputs": [],
   "source": [
    "pd.options.mode.use_inf_as_na=True\n",
    "df['K/P'].fillna(df['K/P'].max(),inplace=True)\n"
   ]
  },
  {
   "cell_type": "code",
   "execution_count": 22,
   "metadata": {},
   "outputs": [
    {
     "name": "stdout",
     "output_type": "stream",
     "text": [
      "Dykstra Parsons coefficient is equal to:  0.70 \n",
      "Reservoir is very heterogeneous\n"
     ]
    },
    {
     "data": {
      "image/png": "[encoded data removed]",
      "text/plain": [
       "<Figure size 432x288 with 1 Axes>"
      ]
     },
     "metadata": {},
     "output_type": "display_data"
    },
    {
     "data": {
      "image/png": "[encoded data removed]",
      "text/plain": [
       "<Figure size 432x288 with 1 Axes>"
      ]
     },
     "metadata": {},
     "output_type": "display_data"
    }
   ],
   "source": [
    "Vk=float((model.predict([[50]])-(model.predict([[84.1]])))/(model.predict([[50]])))\n",
    "if 0.75<=Vk and Vk<1:\n",
    "       print(\"Dykstra Parsons coefficient is equal to: \",\"{:.2f}\".format(Vk),'\\nReservoir is extreamly heterogeneous')\n",
    "elif Vk>=0.5 and Vk<=0.75:\n",
    "       print(\"Dykstra Parsons coefficient is equal to: \",\"{:.2f}\".format(Vk),'\\nReservoir is very heterogeneous')\n",
    "elif Vk>=0.25 and Vk<=0.5:\n",
    "       print(\"Dykstra Parsons coefficient is equal to: \",\"{:.2f}\".format(Vk),'\\nReservoir is heterogeneous')\n",
    "elif Vk>0 and Vk<=0.25:\n",
    "       print(\"Dykstra Parsons coefficient is equal to: \",\"{:.2f}\".format(Vk),'\\nReservoir is very less heterogeneous')\n",
    "else:\n",
    "        print('Kindly check agian that 0<Vk>1')\n",
    "\n",
    "        \n",
    "\n",
    "cmap=sns.cubehelix_palette(dark=.5,light=.2,as_cmap=True)\n",
    "\n",
    "\n",
    "plt.xlim(0,100)\n",
    "plt.ylim(0,1000) \n",
    "h=df.eval(df[\"K/P\"])             \n",
    "sns.set_style('darkgrid')    \n",
    "plt.plot([50.1,50,0],[0,float(model.predict([[50]])),float(model.predict([[50]]))],color='maroon')\n",
    "plt.plot([84.1,84.1,0],[0,float(model.predict([[84.1]])),float(model.predict([[84.1]]))],color='darkolivegreen')\n",
    "plt.title('Pemeability vs Portion of sample having higher Pemeability')\n",
    "sns.scatterplot(data=df,x=df.portion_of_sample_with_higher_K,y=df.K_md,hue=h,size=h,hue_norm=(0,7))\n",
    "plt.plot(df.portion_of_sample_with_higher_K,(df.portion_of_sample_with_higher_K*m)+b,color='m')    \n",
    "plt.stackplot([84.1,84.1,0],[0,float(model.predict([[84.1]])),float(model.predict([[84.1]]))],alpha=.6,color='y')\n",
    "plt.stackplot([50,50,0],[0,float(model.predict([[50]])),float(model.predict([[50]]))],alpha=.5)\n",
    "plt.show()\n",
    "\n",
    "\n",
    "plt.xlim(0,100)        \n",
    "plt.semilogy()\n",
    "h=df.eval(df[\"K/P\"])             \n",
    "sns.set_style('darkgrid') \n",
    "plt.plot([50,50,0],[0,float(model.predict([[50]])),float(model.predict([[50]]))],color='seagreen')\n",
    "plt.plot([84.1,84.1,0],[0,float(model.predict([[84.1]])),float(model.predict([[84.1]]))],color='darkslategrey')\n",
    "plt.title('Pemeability vs Portion of sample having higher Pemeability')\n",
    "sns.scatterplot(data=df,x=df.portion_of_sample_with_higher_K,y=df.K_md,color='m')\n",
    "plt.plot(df.portion_of_sample_with_higher_K,(df.portion_of_sample_with_higher_K*m)+b)    \n",
    "plt.stackplot([84.1,84.1,0],[0,float(model.predict([[84.1]])),float(model.predict([[84.1]]))],alpha=.7,color='g')\n",
    "plt.stackplot([50,50,0],[0,float(model.predict([[50]])),float(model.predict([[50]]))],alpha=.6,color='palegreen')\n",
    "plt.show()"
   ]
  }
 ],
 "metadata": {
  "kernelspec": {
   "display_name": "Python 3",
   "language": "python",
   "name": "python3"
  },
  "language_info": {
   "codemirror_mode": {
    "name": "ipython",
    "version": 3
   },
   "file_extension": ".py",
   "mimetype": "text/x-python",
   "name": "python",
   "nbconvert_exporter": "python",
   "pygments_lexer": "ipython3",
   "version": "3.8.3"
  }
 },
 "nbformat": 4,
 "nbformat_minor": 4
}
