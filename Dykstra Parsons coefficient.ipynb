{
 "cells": [
  {
   "cell_type": "markdown",
   "metadata": {},
   "source": [
    "# Dykstra Parsons coefficient"
   ]
  },
  {
   "cell_type": "markdown",
   "metadata": {},
   "source": [
    "The Dykstra–Parsons coefficient (Vk), or coefficient of variation was introduced in 1950 to evaluate the vertical heterogeneity. The coefficient is calculated using the formula of obtained the 50th and 84.1th values from the Permeability/Probability plot.\n",
    "\n",
    "The range of this index is 0<Vk<1:\n",
    "\n",
    "Vk=0, ideal homogeneous reservoir.\n",
    "\n",
    "0<Vk<0.25, less heterogeneous.\n",
    "\n",
    "0.25<Vk<0.50, heterogeneous reservoir, geometric averaging technique is applicable\n",
    "\n",
    "0.50<Vk<0.75, the reservoir is very heterogeneous, a combination of geometric and harmonic averaging technique is necessary.\n",
    "\n",
    "0.75<Vk<1, the reservoir is extremely heterogeneous; none of the conventional averaging techniques (arithmetic, geometric, and harmonic) are applicable in this range.\n",
    "\n",
    "Vk =1, perfectly heterogeneous reservoir. It is unlikely that such reservoirs exist, as geologic processes of deposition and accumulation of sediments are not extreme\n",
    "\n",
    "Note: In most reservoirs, the coefficient is between 0.5 to 0.8"
   ]
  },
  {
   "cell_type": "code",
   "execution_count": 1,
   "metadata": {},
   "outputs": [],
   "source": [
    "import pandas as pd \n",
    "import numpy as np\n",
    "import matplotlib.pyplot as plt\n",
    "import seaborn as sns\n",
    "from sklearn import linear_model"
   ]
  },
  {
   "cell_type": "code",
   "execution_count": 2,
   "metadata": {},
   "outputs": [
    {
     "data": {
      "text/plain": [
       "array([[998,   1],\n",
       "       [983,   1],\n",
       "       [971,   1],\n",
       "       [958,   1],\n",
       "       [945,   1],\n",
       "       [941,   1],\n",
       "       [940,   1],\n",
       "       [936,   1],\n",
       "       [923,   1],\n",
       "       [918,   1],\n",
       "       [900,   1],\n",
       "       [890,   1],\n",
       "       [884,   1],\n",
       "       [874,   1],\n",
       "       [864,   2],\n",
       "       [863,   1],\n",
       "       [850,   1],\n",
       "       [837,   1],\n",
       "       [829,   1],\n",
       "       [827,   1],\n",
       "       [825,   1],\n",
       "       [821,   1],\n",
       "       [820,   1],\n",
       "       [812,   1],\n",
       "       [802,   1],\n",
       "       [790,   1],\n",
       "       [771,   1],\n",
       "       [759,   1],\n",
       "       [742,   1],\n",
       "       [734,   1],\n",
       "       [712,   1],\n",
       "       [690,   1],\n",
       "       [686,   1],\n",
       "       [685,   1],\n",
       "       [617,   1],\n",
       "       [615,   1],\n",
       "       [608,   1],\n",
       "       [607,   1],\n",
       "       [600,   1],\n",
       "       [596,   1],\n",
       "       [595,   1],\n",
       "       [588,   1],\n",
       "       [584,   1],\n",
       "       [579,   1],\n",
       "       [540,   1],\n",
       "       [534,   1],\n",
       "       [522,   1],\n",
       "       [519,   1],\n",
       "       [514,   1],\n",
       "       [507,   1],\n",
       "       [497,   1],\n",
       "       [491,   1],\n",
       "       [490,   1],\n",
       "       [478,   1],\n",
       "       [467,   2],\n",
       "       [465,   1],\n",
       "       [440,   1],\n",
       "       [429,   1],\n",
       "       [423,   1],\n",
       "       [422,   1],\n",
       "       [419,   1],\n",
       "       [380,   1],\n",
       "       [360,   2],\n",
       "       [359,   1],\n",
       "       [345,   1],\n",
       "       [339,   1],\n",
       "       [315,   1],\n",
       "       [310,   1],\n",
       "       [308,   1],\n",
       "       [302,   1],\n",
       "       [297,   1],\n",
       "       [264,   1],\n",
       "       [263,   1],\n",
       "       [262,   1],\n",
       "       [248,   1],\n",
       "       [220,   1],\n",
       "       [209,   1],\n",
       "       [208,   1],\n",
       "       [197,   1],\n",
       "       [187,   1],\n",
       "       [164,   1],\n",
       "       [155,   1],\n",
       "       [145,   1],\n",
       "       [124,   1],\n",
       "       [110,   1],\n",
       "       [ 96,   1],\n",
       "       [ 92,   1],\n",
       "       [ 80,   1],\n",
       "       [ 74,   1],\n",
       "       [ 72,   1],\n",
       "       [ 58,   1],\n",
       "       [ 50,   1],\n",
       "       [ 46,   1],\n",
       "       [ 27,   1],\n",
       "       [ 22,   1],\n",
       "       [  7,   1],\n",
       "       [  5,   1]], dtype=int64)"
      ]
     },
     "execution_count": 2,
     "metadata": {},
     "output_type": "execute_result"
    }
   ],
   "source": [
    "from numpy import random\n",
    "random_core_samples=random.randint(1000,size=(100))        \n",
    "sample=np.sort(random_core_samples)   \n",
    "(unique,counts)=np.unique(sample,return_counts=True)     #adding freq\n",
    "data=np.asarray((unique,counts)).T[::-1]                 #[::-1] desending order\n",
    "data"
   ]
  },
  {
   "cell_type": "code",
   "execution_count": 3,
   "metadata": {},
   "outputs": [
    {
     "data": {
      "text/html": [
       "<div>\n",
       "<style scoped>\n",
       "    .dataframe tbody tr th:only-of-type {\n",
       "        vertical-align: middle;\n",
       "    }\n",
       "\n",
       "    .dataframe tbody tr th {\n",
       "        vertical-align: top;\n",
       "    }\n",
       "\n",
       "    .dataframe thead th {\n",
       "        text-align: right;\n",
       "    }\n",
       "</style>\n",
       "<table border=\"1\" class=\"dataframe\">\n",
       "  <thead>\n",
       "    <tr style=\"text-align: right;\">\n",
       "      <th></th>\n",
       "      <th>K_md</th>\n",
       "      <th>freq</th>\n",
       "      <th>cm_freq</th>\n",
       "      <th>portion_of_sample_with_higher_K</th>\n",
       "    </tr>\n",
       "  </thead>\n",
       "  <tbody>\n",
       "    <tr>\n",
       "      <th>0</th>\n",
       "      <td>998</td>\n",
       "      <td>1</td>\n",
       "      <td>1</td>\n",
       "      <td>0.0</td>\n",
       "    </tr>\n",
       "    <tr>\n",
       "      <th>1</th>\n",
       "      <td>983</td>\n",
       "      <td>1</td>\n",
       "      <td>2</td>\n",
       "      <td>1.0</td>\n",
       "    </tr>\n",
       "    <tr>\n",
       "      <th>2</th>\n",
       "      <td>971</td>\n",
       "      <td>1</td>\n",
       "      <td>3</td>\n",
       "      <td>2.0</td>\n",
       "    </tr>\n",
       "    <tr>\n",
       "      <th>3</th>\n",
       "      <td>958</td>\n",
       "      <td>1</td>\n",
       "      <td>4</td>\n",
       "      <td>3.0</td>\n",
       "    </tr>\n",
       "    <tr>\n",
       "      <th>4</th>\n",
       "      <td>945</td>\n",
       "      <td>1</td>\n",
       "      <td>5</td>\n",
       "      <td>4.0</td>\n",
       "    </tr>\n",
       "    <tr>\n",
       "      <th>...</th>\n",
       "      <td>...</td>\n",
       "      <td>...</td>\n",
       "      <td>...</td>\n",
       "      <td>...</td>\n",
       "    </tr>\n",
       "    <tr>\n",
       "      <th>92</th>\n",
       "      <td>46</td>\n",
       "      <td>1</td>\n",
       "      <td>96</td>\n",
       "      <td>95.0</td>\n",
       "    </tr>\n",
       "    <tr>\n",
       "      <th>93</th>\n",
       "      <td>27</td>\n",
       "      <td>1</td>\n",
       "      <td>97</td>\n",
       "      <td>96.0</td>\n",
       "    </tr>\n",
       "    <tr>\n",
       "      <th>94</th>\n",
       "      <td>22</td>\n",
       "      <td>1</td>\n",
       "      <td>98</td>\n",
       "      <td>97.0</td>\n",
       "    </tr>\n",
       "    <tr>\n",
       "      <th>95</th>\n",
       "      <td>7</td>\n",
       "      <td>1</td>\n",
       "      <td>99</td>\n",
       "      <td>98.0</td>\n",
       "    </tr>\n",
       "    <tr>\n",
       "      <th>96</th>\n",
       "      <td>5</td>\n",
       "      <td>1</td>\n",
       "      <td>100</td>\n",
       "      <td>99.0</td>\n",
       "    </tr>\n",
       "  </tbody>\n",
       "</table>\n",
       "<p>97 rows × 4 columns</p>\n",
       "</div>"
      ],
      "text/plain": [
       "    K_md  freq  cm_freq  portion_of_sample_with_higher_K\n",
       "0    998     1        1                              0.0\n",
       "1    983     1        2                              1.0\n",
       "2    971     1        3                              2.0\n",
       "3    958     1        4                              3.0\n",
       "4    945     1        5                              4.0\n",
       "..   ...   ...      ...                              ...\n",
       "92    46     1       96                             95.0\n",
       "93    27     1       97                             96.0\n",
       "94    22     1       98                             97.0\n",
       "95     7     1       99                             98.0\n",
       "96     5     1      100                             99.0\n",
       "\n",
       "[97 rows x 4 columns]"
      ]
     },
     "execution_count": 3,
     "metadata": {},
     "output_type": "execute_result"
    }
   ],
   "source": [
    "df=pd.DataFrame(data,columns=['K_md','freq'])\n",
    "df['cm_freq']=df.freq.cumsum()\n",
    "df['portion_of_sample_with_higher_K']=(df.cm_freq-df.freq)/df.freq.sum()*100\n",
    "df"
   ]
  },
  {
   "cell_type": "code",
   "execution_count": 4,
   "metadata": {},
   "outputs": [],
   "source": [
    "df['K/P']=(df['K_md']/df['portion_of_sample_with_higher_K'])"
   ]
  },
  {
   "cell_type": "code",
   "execution_count": 5,
   "metadata": {},
   "outputs": [],
   "source": [
    "portion_of_sample_with_higher_K= df.drop(['K_md','cm_freq','freq','K/P'],axis='columns')\n",
    "K_md = df.K_md"
   ]
  },
  {
   "cell_type": "code",
   "execution_count": 6,
   "metadata": {},
   "outputs": [
    {
     "data": {
      "text/plain": [
       "(-10.167753257379045, 1016.2223111445642)"
      ]
     },
     "execution_count": 6,
     "metadata": {},
     "output_type": "execute_result"
    }
   ],
   "source": [
    "model = linear_model.LinearRegression()\n",
    "model.fit(portion_of_sample_with_higher_K,K_md)\n",
    "m=float(model.coef_)                                                 \n",
    "b=float(model.intercept_)                                 #y= mx+b\n",
    "m,b"
   ]
  },
  {
   "cell_type": "code",
   "execution_count": 7,
   "metadata": {},
   "outputs": [],
   "source": [
    "pd.options.mode.use_inf_as_na=True\n",
    "df['K/P'].fillna(df['K/P'].max(),inplace=True)"
   ]
  },
  {
   "cell_type": "code",
   "execution_count": 9,
   "metadata": {},
   "outputs": [
    {
     "name": "stdout",
     "output_type": "stream",
     "text": [
      "Dykstra Parsons coefficient is equal to:  0.68 \n",
      "Reservoir is very heterogeneous\n"
     ]
    },
    {
     "data": {
      "image/png": "[encoded data removed]",
      "text/plain": [
       "<Figure size 432x288 with 1 Axes>"
      ]
     },
     "metadata": {},
     "output_type": "display_data"
    },
    {
     "data": {
      "image/png": "[encoded data removed]",
      "text/plain": [
       "<Figure size 432x288 with 1 Axes>"
      ]
     },
     "metadata": {},
     "output_type": "display_data"
    }
   ],
   "source": [
    "Vk=float((model.predict([[50]])-(model.predict([[84.1]])))/(model.predict([[50]])))\n",
    "if 0.75<=Vk and Vk<1:\n",
    "       print(\"Dykstra Parsons coefficient is equal to: \",\"{:.2f}\".format(Vk),'\\nReservoir is extreamly heterogeneous')\n",
    "elif Vk>=0.5 and Vk<=0.75:\n",
    "       print(\"Dykstra Parsons coefficient is equal to: \",\"{:.2f}\".format(Vk),'\\nReservoir is very heterogeneous')\n",
    "elif Vk>=0.25 and Vk<=0.5:\n",
    "       print(\"Dykstra Parsons coefficient is equal to: \",\"{:.2f}\".format(Vk),'\\nReservoir is heterogeneous')\n",
    "elif Vk>0 and Vk<=0.25:\n",
    "       print(\"Dykstra Parsons coefficient is equal to: \",\"{:.2f}\".format(Vk),'\\nReservoir is very less heterogeneous')\n",
    "else:\n",
    "        print('Kindly check agian that 0<Vk>1')\n",
    "\n",
    "        \n",
    "\n",
    "cmap=sns.cubehelix_palette(dark=.5,light=.2,as_cmap=True)\n",
    "\n",
    "\n",
    "plt.xlim(0,100)\n",
    "plt.ylim(0,1000) \n",
    "h=df.eval(df[\"K/P\"])             \n",
    "sns.set_style('darkgrid')    \n",
    "plt.plot([50.1,50,0],[0,float(model.predict([[50]])),float(model.predict([[50]]))],color='maroon')\n",
    "plt.plot([84.1,84.1,0],[0,float(model.predict([[84.1]])),float(model.predict([[84.1]]))],color='darkolivegreen')\n",
    "plt.title('Pemeability vs Portion of sample having higher Pemeability')\n",
    "sns.scatterplot(data=df,x=df.portion_of_sample_with_higher_K,y=df.K_md,hue=h,size=h,hue_norm=(0,7))\n",
    "plt.plot(df.portion_of_sample_with_higher_K,(df.portion_of_sample_with_higher_K*m)+b,color='m')    \n",
    "plt.stackplot([84.1,84.1,0],[0,float(model.predict([[84.1]])),float(model.predict([[84.1]]))],alpha=.6,color='y')\n",
    "plt.stackplot([50,50,0],[0,float(model.predict([[50]])),float(model.predict([[50]]))],alpha=.5)\n",
    "plt.show()\n",
    "\n",
    "\n",
    "plt.xlim(0,100)        \n",
    "plt.semilogy()\n",
    "h=df.eval(df[\"K/P\"])             \n",
    "sns.set_style('darkgrid')\n",
    "plt.plot([50,50,0],[0,float(model.predict([[50]])),float(model.predict([[50]]))],color='seagreen')\n",
    "plt.plot([84.1,84.1,0],[0,float(model.predict([[84.1]])),float(model.predict([[84.1]]))],color='darkslategrey')\n",
    "plt.title('Pemeability vs Portion of sample having higher Pemeability')\n",
    "sns.scatterplot(data=df,x=df.portion_of_sample_with_higher_K,y=df.K_md,color='m')\n",
    "plt.plot(df.portion_of_sample_with_higher_K,(df.portion_of_sample_with_higher_K*m)+b)    \n",
    "plt.stackplot([84.1,84.1,0],[0,float(model.predict([[84.1]])),float(model.predict([[84.1]]))],alpha=.7,color='g')\n",
    "plt.stackplot([50,50,0],[0,float(model.predict([[50]])),float(model.predict([[50]]))],alpha=.6,color='palegreen')\n",
    "plt.show()"
   ]
  }
 ],
 "metadata": {
  "kernelspec": {
   "display_name": "Python 3",
   "language": "python",
   "name": "python3"
  },
  "language_info": {
   "codemirror_mode": {
    "name": "ipython",
    "version": 3
   },
   "file_extension": ".py",
   "mimetype": "text/x-python",
   "name": "python",
   "nbconvert_exporter": "python",
   "pygments_lexer": "ipython3",
   "version": "3.8.3"
  }
 },
 "nbformat": 4,
 "nbformat_minor": 4
}
