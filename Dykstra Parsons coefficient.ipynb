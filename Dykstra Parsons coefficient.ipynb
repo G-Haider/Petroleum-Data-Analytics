{
 "cells": [
  {
   "cell_type": "markdown",
   "metadata": {},
   "source": [
    "# Dykstra Parsons coefficient"
   ]
  },
  {
   "cell_type": "markdown",
   "metadata": {},
   "source": [
    "The Dykstra–Parsons coefficient (Vk), or coefficient of variation was introduced in 1950 to evaluate the vertical heterogeneity. The coefficient is calculated using the formula of obtained the 50th and 84.1th values from the Permeability/Probability plot.\n",
    "\n",
    "The range of this index is 0<Vk<1:\n",
    "\n",
    "Vk=0, ideal homogeneous reservoir.\n",
    "\n",
    "0<Vk<0.25, less heterogeneous.\n",
    "\n",
    "0.25<Vk<0.50, heterogeneous reservoir, geometric averaging technique is applicable\n",
    "\n",
    "0.50<Vk<0.75, the reservoir is very heterogeneous, a combination of geometric and harmonic averaging technique is necessary.\n",
    "\n",
    "0.75<Vk<1, the reservoir is extremely heterogeneous; none of the conventional averaging techniques (arithmetic, geometric, and harmonic) are applicable in this range.\n",
    "\n",
    "Vk =1, perfectly heterogeneous reservoir. It is unlikely that such reservoirs exist, as geologic processes of deposition and accumulation of sediments are not extreme\n",
    "\n",
    "Note: In most reservoirs, the coefficient is between 0.5 to 0.8 "
   ]
  },
  {
   "cell_type": "code",
   "execution_count": 9,
   "metadata": {},
   "outputs": [],
   "source": [
    "import pandas as pd \n",
    "import numpy as np\n",
    "import matplotlib.pyplot as plt\n",
    "import seaborn as sns\n",
    "from sklearn import linear_model"
   ]
  },
  {
   "cell_type": "code",
   "execution_count": 10,
   "metadata": {},
   "outputs": [
    {
     "data": {
      "text/plain": [
       "array([[950,   1],\n",
       "       [948,   1],\n",
       "       [940,   1],\n",
       "       [935,   1],\n",
       "       [915,   1],\n",
       "       [914,   1],\n",
       "       [905,   1],\n",
       "       [894,   1],\n",
       "       [890,   1],\n",
       "       [878,   1],\n",
       "       [870,   1],\n",
       "       [865,   1],\n",
       "       [851,   1],\n",
       "       [832,   1],\n",
       "       [825,   1],\n",
       "       [820,   1],\n",
       "       [813,   1],\n",
       "       [795,   1],\n",
       "       [762,   1],\n",
       "       [726,   1],\n",
       "       [722,   1],\n",
       "       [718,   1],\n",
       "       [713,   1],\n",
       "       [658,   1],\n",
       "       [652,   1],\n",
       "       [651,   1],\n",
       "       [638,   2],\n",
       "       [635,   1],\n",
       "       [630,   1],\n",
       "       [625,   1],\n",
       "       [615,   2],\n",
       "       [614,   1],\n",
       "       [605,   1],\n",
       "       [604,   1],\n",
       "       [603,   1],\n",
       "       [595,   1],\n",
       "       [592,   1],\n",
       "       [590,   1],\n",
       "       [572,   1],\n",
       "       [563,   1],\n",
       "       [560,   1],\n",
       "       [546,   1],\n",
       "       [529,   1],\n",
       "       [528,   1],\n",
       "       [525,   1],\n",
       "       [499,   1],\n",
       "       [490,   1],\n",
       "       [468,   1],\n",
       "       [467,   1],\n",
       "       [458,   1],\n",
       "       [454,   1],\n",
       "       [452,   1],\n",
       "       [443,   1],\n",
       "       [441,   1],\n",
       "       [435,   1],\n",
       "       [426,   1],\n",
       "       [420,   1],\n",
       "       [408,   2],\n",
       "       [384,   1],\n",
       "       [376,   1],\n",
       "       [367,   1],\n",
       "       [366,   1],\n",
       "       [333,   1],\n",
       "       [331,   1],\n",
       "       [329,   1],\n",
       "       [308,   1],\n",
       "       [300,   1],\n",
       "       [297,   1],\n",
       "       [287,   1],\n",
       "       [265,   1],\n",
       "       [261,   2],\n",
       "       [257,   1],\n",
       "       [256,   1],\n",
       "       [239,   1],\n",
       "       [230,   1],\n",
       "       [227,   1],\n",
       "       [224,   1],\n",
       "       [218,   1],\n",
       "       [216,   1],\n",
       "       [201,   1],\n",
       "       [195,   1],\n",
       "       [178,   1],\n",
       "       [166,   1],\n",
       "       [162,   1],\n",
       "       [151,   1],\n",
       "       [135,   2],\n",
       "       [123,   1],\n",
       "       [121,   1],\n",
       "       [107,   1],\n",
       "       [100,   1],\n",
       "       [ 98,   1],\n",
       "       [ 88,   1],\n",
       "       [ 87,   1],\n",
       "       [ 79,   1],\n",
       "       [ 59,   1],\n",
       "       [ 51,   1],\n",
       "       [ 42,   1],\n",
       "       [ 33,   1],\n",
       "       [ 22,   1],\n",
       "       [ 16,   1]], dtype=int64)"
      ]
     },
     "execution_count": 10,
     "metadata": {},
     "output_type": "execute_result"
    }
   ],
   "source": [
    "from numpy import random\n",
    "random_core_samples=random.randint(1000,size=(105))        \n",
    "sample=np.sort(random_core_samples)   \n",
    "(unique,counts)=np.unique(sample,return_counts=True)     #adding freq\n",
    "data=np.asarray((unique,counts)).T[::-1]                 #[::-1] desending order\n",
    "data"
   ]
  },
  {
   "cell_type": "code",
   "execution_count": 11,
   "metadata": {},
   "outputs": [
    {
     "data": {
      "text/html": [
       "<div>\n",
       "<style scoped>\n",
       "    .dataframe tbody tr th:only-of-type {\n",
       "        vertical-align: middle;\n",
       "    }\n",
       "\n",
       "    .dataframe tbody tr th {\n",
       "        vertical-align: top;\n",
       "    }\n",
       "\n",
       "    .dataframe thead th {\n",
       "        text-align: right;\n",
       "    }\n",
       "</style>\n",
       "<table border=\"1\" class=\"dataframe\">\n",
       "  <thead>\n",
       "    <tr style=\"text-align: right;\">\n",
       "      <th></th>\n",
       "      <th>K_md</th>\n",
       "      <th>freq</th>\n",
       "      <th>cm_freq</th>\n",
       "      <th>portion_of_sample_with_higher_K</th>\n",
       "    </tr>\n",
       "  </thead>\n",
       "  <tbody>\n",
       "    <tr>\n",
       "      <th>0</th>\n",
       "      <td>950</td>\n",
       "      <td>1</td>\n",
       "      <td>1</td>\n",
       "      <td>0.000000</td>\n",
       "    </tr>\n",
       "    <tr>\n",
       "      <th>1</th>\n",
       "      <td>948</td>\n",
       "      <td>1</td>\n",
       "      <td>2</td>\n",
       "      <td>0.952381</td>\n",
       "    </tr>\n",
       "    <tr>\n",
       "      <th>2</th>\n",
       "      <td>940</td>\n",
       "      <td>1</td>\n",
       "      <td>3</td>\n",
       "      <td>1.904762</td>\n",
       "    </tr>\n",
       "    <tr>\n",
       "      <th>3</th>\n",
       "      <td>935</td>\n",
       "      <td>1</td>\n",
       "      <td>4</td>\n",
       "      <td>2.857143</td>\n",
       "    </tr>\n",
       "    <tr>\n",
       "      <th>4</th>\n",
       "      <td>915</td>\n",
       "      <td>1</td>\n",
       "      <td>5</td>\n",
       "      <td>3.809524</td>\n",
       "    </tr>\n",
       "    <tr>\n",
       "      <th>...</th>\n",
       "      <td>...</td>\n",
       "      <td>...</td>\n",
       "      <td>...</td>\n",
       "      <td>...</td>\n",
       "    </tr>\n",
       "    <tr>\n",
       "      <th>95</th>\n",
       "      <td>51</td>\n",
       "      <td>1</td>\n",
       "      <td>101</td>\n",
       "      <td>95.238095</td>\n",
       "    </tr>\n",
       "    <tr>\n",
       "      <th>96</th>\n",
       "      <td>42</td>\n",
       "      <td>1</td>\n",
       "      <td>102</td>\n",
       "      <td>96.190476</td>\n",
       "    </tr>\n",
       "    <tr>\n",
       "      <th>97</th>\n",
       "      <td>33</td>\n",
       "      <td>1</td>\n",
       "      <td>103</td>\n",
       "      <td>97.142857</td>\n",
       "    </tr>\n",
       "    <tr>\n",
       "      <th>98</th>\n",
       "      <td>22</td>\n",
       "      <td>1</td>\n",
       "      <td>104</td>\n",
       "      <td>98.095238</td>\n",
       "    </tr>\n",
       "    <tr>\n",
       "      <th>99</th>\n",
       "      <td>16</td>\n",
       "      <td>1</td>\n",
       "      <td>105</td>\n",
       "      <td>99.047619</td>\n",
       "    </tr>\n",
       "  </tbody>\n",
       "</table>\n",
       "<p>100 rows × 4 columns</p>\n",
       "</div>"
      ],
      "text/plain": [
       "    K_md  freq  cm_freq  portion_of_sample_with_higher_K\n",
       "0    950     1        1                         0.000000\n",
       "1    948     1        2                         0.952381\n",
       "2    940     1        3                         1.904762\n",
       "3    935     1        4                         2.857143\n",
       "4    915     1        5                         3.809524\n",
       "..   ...   ...      ...                              ...\n",
       "95    51     1      101                        95.238095\n",
       "96    42     1      102                        96.190476\n",
       "97    33     1      103                        97.142857\n",
       "98    22     1      104                        98.095238\n",
       "99    16     1      105                        99.047619\n",
       "\n",
       "[100 rows x 4 columns]"
      ]
     },
     "execution_count": 11,
     "metadata": {},
     "output_type": "execute_result"
    }
   ],
   "source": [
    "df=pd.DataFrame(data,columns=['K_md','freq'])\n",
    "df['cm_freq']=df.freq.cumsum()\n",
    "df['portion_of_sample_with_higher_K']=(df.cm_freq-df.freq)/df.freq.sum()*100\n",
    "df"
   ]
  },
  {
   "cell_type": "code",
   "execution_count": 12,
   "metadata": {},
   "outputs": [],
   "source": [
    "df['K/P']=(df['K_md']/df['portion_of_sample_with_higher_K'])"
   ]
  },
  {
   "cell_type": "code",
   "execution_count": 13,
   "metadata": {},
   "outputs": [],
   "source": [
    "portion_of_sample_with_higher_K= df.drop(['K_md','cm_freq','freq','K/P'],axis='columns')\n",
    "K_md = df.K_md"
   ]
  },
  {
   "cell_type": "code",
   "execution_count": 14,
   "metadata": {},
   "outputs": [
    {
     "data": {
      "text/plain": [
       "(-9.320381829777292, 927.1092069786384)"
      ]
     },
     "execution_count": 14,
     "metadata": {},
     "output_type": "execute_result"
    }
   ],
   "source": [
    "model = linear_model.LinearRegression()\n",
    "model.fit(portion_of_sample_with_higher_K,K_md)\n",
    "m=float(model.coef_)                                                 \n",
    "b=float(model.intercept_)                                 #y= mx+b\n",
    "m,b"
   ]
  },
  {
   "cell_type": "code",
   "execution_count": 15,
   "metadata": {},
   "outputs": [],
   "source": [
    "pd.options.mode.use_inf_as_na=True\n",
    "df['K/P'].fillna(df['K/P'].max(),inplace=True)\n"
   ]
  },
  {
   "cell_type": "code",
   "execution_count": 16,
   "metadata": {},
   "outputs": [
    {
     "name": "stdout",
     "output_type": "stream",
     "text": [
      "Dykstra Parsons coefficient is equal to:  0.69 \n",
      "Reservoir is very heterogeneous\n"
     ]
    },
    {
     "data": {
      "image/png": "[encoded data removed]",
      "text/plain": [
       "<Figure size 432x288 with 1 Axes>"
      ]
     },
     "metadata": {
      "needs_background": "light"
     },
     "output_type": "display_data"
    },
    {
     "data": {
      "image/png": "[encoded data removed]",
      "text/plain": [
       "<Figure size 432x288 with 1 Axes>"
      ]
     },
     "metadata": {},
     "output_type": "display_data"
    }
   ],
   "source": [
    "Vk=float((model.predict([[50]])-(model.predict([[84.1]])))/(model.predict([[50]])))\n",
    "if 0.75<=Vk and Vk<1:\n",
    "       print(\"Dykstra Parsons coefficient is equal to: \",\"{:.2f}\".format(Vk),'\\nReservoir is extreamly heterogeneous')\n",
    "elif Vk>=0.5 and Vk<=0.75:\n",
    "       print(\"Dykstra Parsons coefficient is equal to: \",\"{:.2f}\".format(Vk),'\\nReservoir is very heterogeneous')\n",
    "elif Vk>=0.25 and Vk<=0.5:\n",
    "       print(\"Dykstra Parsons coefficient is equal to: \",\"{:.2f}\".format(Vk),'\\nReservoir is heterogeneous')\n",
    "elif Vk>0 and Vk<=0.25:\n",
    "       print(\"Dykstra Parsons coefficient is equal to: \",\"{:.2f}\".format(Vk),'\\nReservoir is very less heterogeneous')\n",
    "else:\n",
    "        print('Kindly check agian that 0<Vk>1')\n",
    "\n",
    "        \n",
    "\n",
    "cmap=sns.cubehelix_palette(dark=.5,light=.2,as_cmap=True)\n",
    "\n",
    "\n",
    "plt.xlim(0,100)\n",
    "plt.ylim(0,1000) \n",
    "h=df.eval(df[\"K/P\"])             \n",
    "sns.set_style('darkgrid')    \n",
    "plt.plot([50.1,50,0],[0,float(model.predict([[50]])),float(model.predict([[50]]))],color='maroon')\n",
    "plt.plot([84.1,84.1,0],[0,float(model.predict([[84.1]])),float(model.predict([[84.1]]))],color='darkolivegreen')\n",
    "plt.title('Pemeability vs Portion of sample having higher Pemeability')\n",
    "sns.scatterplot(data=df,x=df.portion_of_sample_with_higher_K,y=df.K_md,hue=h,size=h,hue_norm=(0,7))\n",
    "plt.plot(df.portion_of_sample_with_higher_K,(df.portion_of_sample_with_higher_K*m)+b,color='m')    \n",
    "plt.stackplot([84.1,84.1,0],[0,float(model.predict([[84.1]])),float(model.predict([[84.1]]))],alpha=.6,color='y')\n",
    "plt.stackplot([50,50,0],[0,float(model.predict([[50]])),float(model.predict([[50]]))],alpha=.5)\n",
    "plt.show()\n",
    "\n",
    "\n",
    "plt.xlim(0,100)        \n",
    "plt.semilogy()\n",
    "h=df.eval(df[\"K/P\"])             \n",
    "sns.set_style('darkgrid') \n",
    "plt.plot([50,50,0],[0,float(model.predict([[50]])),float(model.predict([[50]]))],color='seagreen')\n",
    "plt.plot([84.1,84.1,0],[0,float(model.predict([[84.1]])),float(model.predict([[84.1]]))],color='darkslategrey')\n",
    "plt.title('Pemeability vs Portion of sample having higher Pemeability')\n",
    "sns.scatterplot(data=df,x=df.portion_of_sample_with_higher_K,y=df.K_md,color='m')\n",
    "plt.plot(df.portion_of_sample_with_higher_K,(df.portion_of_sample_with_higher_K*m)+b)    \n",
    "plt.stackplot([84.1,84.1,0],[0,float(model.predict([[84.1]])),float(model.predict([[84.1]]))],alpha=.7,color='g')\n",
    "plt.stackplot([50,50,0],[0,float(model.predict([[50]])),float(model.predict([[50]]))],alpha=.6,color='palegreen')\n",
    "plt.show()"
   ]
  }
 ],
 "metadata": {
  "kernelspec": {
   "display_name": "Python 3",
   "language": "python",
   "name": "python3"
  },
  "language_info": {
   "codemirror_mode": {
    "name": "ipython",
    "version": 3
   },
   "file_extension": ".py",
   "mimetype": "text/x-python",
   "name": "python",
   "nbconvert_exporter": "python",
   "pygments_lexer": "ipython3",
   "version": "3.8.3"
  }
 },
 "nbformat": 4,
 "nbformat_minor": 4
}
